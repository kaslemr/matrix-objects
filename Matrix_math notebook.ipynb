{
 "cells": [
  {
   "cell_type": "code",
   "execution_count": 2,
   "metadata": {
    "collapsed": false
   },
   "outputs": [],
   "source": [
    "class CurrencyConverter:\n",
    "    \n",
    "    RATES = {\n",
    "        \"USD\": 1.0,\n",
    "        \"CAN\": 1.32,\n",
    "        \"BTC\": .0043,\n",
    "        \"EUR\": 0.89\n",
    "    }\n",
    "    \n",
    "    def __init__(self, first_symbol):\n",
    "        self.first_symbol = first_symbol\n",
    "    \n",
    "    def get_value(self, amount, symbol):\n",
    "        return amount * (self.RATES[self.first_symbol] / self.RATES[symbol])\n",
    "    \n",
    "    \n",
    "class Money:\n",
    "    \n",
    "    def __init__(self, amount, symbol):\n",
    "        self.amount = amount\n",
    "        self.symbol = symbol\n",
    "        self.converter = CurrencyConverter(self.symbol)\n",
    "        \n",
    "    def __str__(self):\n",
    "        return \"${} {}\".format(self.amount, self.symbol)\n",
    "        \n",
    "    def __gt__(self, other):\n",
    "        return self.amount > self.converter.get_value(other.amount, other.symbol)\n",
    "    \n",
    "    def __lt__(self, other):\n",
    "        return self.amount < self.converter.get_value(other.amount, other.symbol)\n",
    "       \n",
    "    def __add__ (self, other):\n",
    "        return Money(self.amount + self.converter.get_value(other.amount, other.symbol), self.symbol)\n"
   ]
  },
  {
   "cell_type": "code",
   "execution_count": 7,
   "metadata": {
    "collapsed": false
   },
   "outputs": [],
   "source": [
    "def dot(vector_a, vector_b):\n",
    "    def shape_checker(vector_a, vector_b):\n",
    "        if shape(vector_a) != shape(vector_b):\n",
    "            raise ShapeException()\n",
    "    output_vector = []\n",
    "    counter = -1\n",
    "    for x in vector_a:\n",
    "        counter += 1\n",
    "        addition_num = vector_b[counter]\n",
    "        new_num = x * addition_num\n",
    "        output_vector.append(new_num)\n",
    "    return sum(output_vector)\n",
    "\n",
    "def magnitude(vector):\n",
    "    total = 0\n",
    "    for x in vector:\n",
    "        total += x**2\n",
    "    return total**0.5\n",
    "\n",
    "def shape(matrix):\n",
    "    for row in matrix:\n",
    "        row_counter += 1\n",
    "        if type(row) == list:\n",
    "            for x in row:\n",
    "                column_counter += 1\n",
    "    column_counter = int(column_counter / row_counter)\n",
    "    size.append(row_counter)\n",
    "    size.append(column_counter)\n",
    "    if size[1] == 0:\n",
    "        del size[1]\n",
    "    size = tuple(size)\n",
    "    return size\n",
    "\n",
    "def vector_add(vector_a, vector_b):\n",
    "    def shape_checker(vector_a, vector_b):\n",
    "        if shape(matrix1) != shape(matrix2):\n",
    "            raise ShapeException()\n",
    "        output_vector = []\n",
    "        counter = -1\n",
    "        for x in vector_a:\n",
    "            counter += 1\n",
    "            addition_num = vector_b[counter]\n",
    "            new_num = x + addition_num\n",
    "            output_vector.append(new_num)\n",
    "        return output_vector\n",
    "\n",
    "def vector_sub(vector_a, vector_b):\n",
    "    def shape_checker(vector_a, vector_b):\n",
    "        if shape(matrix1) != shape(matrix2):\n",
    "            raise ShapeException()\n",
    "        output_vector = []\n",
    "        counter = -1\n",
    "        for x in vector_a:\n",
    "            counter += 1\n",
    "            subtraction_num = vector_b[counter]\n",
    "            new_num = x - subtraction_num\n",
    "            output_vector.append(new_num)\n",
    "        return output_vector\n",
    "\n",
    "def vector_multiply():\n",
    "    return [num * scalar for num in vector]\n",
    "\n",
    "def matrix_row():\n",
    "    if row > len(matrix):\n",
    "        raise ShapeException()\n",
    "    if type(row) == int:\n",
    "        return matrix[row]\n",
    "    else:\n",
    "        return \"Please type an integer.\"\n",
    "\n",
    "def matrix_scalar_multiply(matrix, scalar):\n",
    "    new_matrix = [[col * scalar for col in row] for row in matrix]\n",
    "    return new_matrix \n",
    "\n",
    "def matrix_vector_multiply(matrix, vector):\n",
    "    output_matrix = []\n",
    "    for row in matrix:\n",
    "        output_row = []\n",
    "        counter = -1\n",
    "        for column in row:\n",
    "            counter += 1\n",
    "            calculated_value = column * vector_a[counter]\n",
    "            output_row.append(calculated_value)\n",
    "        output_row = sum(output_row)\n",
    "        output_matrix.append(output_row)\n",
    "    return output_matrix\n",
    "\n",
    "def matrix_matrix_multiply():\n",
    "    pass\n",
    "\n",
    "def matrix_col():\n",
    "    pass\n"
   ]
  },
  {
   "cell_type": "code",
   "execution_count": 10,
   "metadata": {
    "collapsed": true
   },
   "outputs": [],
   "source": [
    "#You should think about how you create the initial objects. It is suggested that you be able to write:\n",
    "    #Matrix([[0, 1, 0], [1, 0, 0], [0, 0, 1]])\n",
    "    #Vector([1, 5])\n",
    "#Also think about whether Vector might inherit from Matrix or vice-versa. Vectors can often be treated as 1-d matrices\n",
    "\n"
   ]
  },
  {
   "cell_type": "code",
   "execution_count": 164,
   "metadata": {
    "collapsed": false
   },
   "outputs": [],
   "source": [
    "class Matrix(Vector):\n",
    "    pass\n",
    "\n",
    "class Vector:\n",
    "    \n",
    "    def __init__(self, value):\n",
    "        self.value = value\n",
    "        self.counter = 0\n",
    "        self.empty_list = []\n",
    "        return \n",
    "    \n",
    "    def __str__(self):\n",
    "        return \"{}\".format(self.value)\n",
    "    \n",
    "    def magnitude(self):\n",
    "        self.total = 0\n",
    "        for x in self.value:\n",
    "            self.total += x**2\n",
    "        return self.total**0.5\n",
    "    \n",
    "    def shape_checker(self):\n",
    "        for x in self.value:\n",
    "            self.counter += 1\n",
    "        self.empty_list.append(self.counter)\n",
    "        self.empty_list = tuple(self.empty_list)\n",
    "        return self.empty_list\n",
    "    \n",
    "    def vector_scalar_mult(self, value_scalar):\n",
    "        return [x * value_scalar for x in self.value]\n",
    "\n",
    "     \n",
    "    \n"
   ]
  },
  {
   "cell_type": "code",
   "execution_count": 165,
   "metadata": {
    "collapsed": false
   },
   "outputs": [
    {
     "name": "stdout",
     "output_type": "stream",
     "text": [
      "[1, 2, 3]\n",
      "3.7416573867739413\n"
     ]
    },
    {
     "data": {
      "text/plain": [
       "[4, 8, 12]"
      ]
     },
     "execution_count": 165,
     "metadata": {},
     "output_type": "execute_result"
    }
   ],
   "source": [
    "x = Vector([1, 2 ,3])\n",
    "print(x)\n",
    "print(x.magnitude())\n",
    "x.shape_checker()\n",
    "x.vector_scalar_mult(4)"
   ]
  },
  {
   "cell_type": "code",
   "execution_count": 72,
   "metadata": {
    "collapsed": false
   },
   "outputs": [
    {
     "ename": "AttributeError",
     "evalue": "'Vector' object has no attribute 'get_list'",
     "output_type": "error",
     "traceback": [
      "\u001b[0;31m---------------------------------------------------------------------------\u001b[0m",
      "\u001b[0;31mAttributeError\u001b[0m                            Traceback (most recent call last)",
      "\u001b[0;32m<ipython-input-72-3e36b051c6b9>\u001b[0m in \u001b[0;36m<module>\u001b[0;34m()\u001b[0m\n\u001b[0;32m----> 1\u001b[0;31m \u001b[0mx\u001b[0m\u001b[0;34m.\u001b[0m\u001b[0mget_list\u001b[0m\u001b[0;34m(\u001b[0m\u001b[0;34m)\u001b[0m\u001b[0;34m\u001b[0m\u001b[0m\n\u001b[0m",
      "\u001b[0;31mAttributeError\u001b[0m: 'Vector' object has no attribute 'get_list'"
     ]
    }
   ],
   "source": [
    "x.get_list()"
   ]
  },
  {
   "cell_type": "code",
   "execution_count": 26,
   "metadata": {
    "collapsed": true
   },
   "outputs": [],
   "source": [
    "class SpecialClass:\n",
    "    \n",
    "    def __init__(self, value):\n",
    "        self.value = value\n",
    "    "
   ]
  },
  {
   "cell_type": "code",
   "execution_count": 27,
   "metadata": {
    "collapsed": true
   },
   "outputs": [],
   "source": [
    "x = SpecialClass(6)"
   ]
  },
  {
   "cell_type": "code",
   "execution_count": 28,
   "metadata": {
    "collapsed": false
   },
   "outputs": [
    {
     "name": "stdout",
     "output_type": "stream",
     "text": [
      "<__main__.SpecialClass object at 0x1029f67f0>\n"
     ]
    }
   ],
   "source": [
    "print(x)"
   ]
  },
  {
   "cell_type": "code",
   "execution_count": 119,
   "metadata": {
    "collapsed": true
   },
   "outputs": [],
   "source": [
    "def dot(vector_a, vector_b):\n",
    "    output_vector = []\n",
    "    counter = -1\n",
    "    for x in vector_a:\n",
    "        counter += 1\n",
    "        addition_num = vector_b[counter]\n",
    "        new_num = x * addition_num\n",
    "        output_vector.append(new_num)\n",
    "    return sum(output_vector)\n"
   ]
  },
  {
   "cell_type": "code",
   "execution_count": 121,
   "metadata": {
    "collapsed": false
   },
   "outputs": [
    {
     "data": {
      "text/plain": [
       "11"
      ]
     },
     "execution_count": 121,
     "metadata": {},
     "output_type": "execute_result"
    }
   ],
   "source": [
    "dot([1,2],[3,4,4])"
   ]
  },
  {
   "cell_type": "code",
   "execution_count": null,
   "metadata": {
    "collapsed": true
   },
   "outputs": [],
   "source": [
    "class Vector:\n",
    "    \n",
    "    def __init__(self, value):\n",
    "        self.value = value\n",
    "        self.counter = 0\n",
    "        self.empty_list = []\n",
    "        self.value_a = value_a\n",
    "        return \n",
    "    \n",
    "    def __str__(self):\n",
    "        return \"{}\".format(self.value)\n",
    "    \n",
    "    def magnitude(self):\n",
    "        self.total = 0\n",
    "        for x in self.value:\n",
    "            self.total += x**2\n",
    "        return self.total**0.5\n",
    "    \n",
    "    def shape_checker(self):\n",
    "        for x in self.value:\n",
    "            self.counter += 1\n",
    "        self.empty_list.append(self.counter)\n",
    "        self.empty_list = tuple(self.empty_list)\n",
    "        return self.empty_list\n",
    "    \n",
    "    def dot(self, value, value_a):\n",
    "        output_vector = []\n",
    "        counter = -1\n",
    "        for x in vector_a:\n",
    "            counter += 1\n",
    "            addition_num = vector_b[counter]\n",
    "            new_num = x * addition_num\n",
    "            output_vector.append(new_num)\n",
    "        return sum(output_vector)\n",
    " \n",
    "    \n",
    "    "
   ]
  }
 ],
 "metadata": {
  "kernelspec": {
   "display_name": "Python 3",
   "language": "python",
   "name": "python3"
  },
  "language_info": {
   "codemirror_mode": {
    "name": "ipython",
    "version": 3
   },
   "file_extension": ".py",
   "mimetype": "text/x-python",
   "name": "python",
   "nbconvert_exporter": "python",
   "pygments_lexer": "ipython3",
   "version": "3.5.0"
  }
 },
 "nbformat": 4,
 "nbformat_minor": 0
}
