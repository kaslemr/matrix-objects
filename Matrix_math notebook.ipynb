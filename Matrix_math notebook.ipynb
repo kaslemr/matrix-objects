{
 "cells": [
  {
   "cell_type": "code",
   "execution_count": 2,
   "metadata": {
    "collapsed": false
   },
   "outputs": [],
   "source": [
    "class CurrencyConverter:\n",
    "    \n",
    "    RATES = {\n",
    "        \"USD\": 1.0,\n",
    "        \"CAN\": 1.32,\n",
    "        \"BTC\": .0043,\n",
    "        \"EUR\": 0.89\n",
    "    }\n",
    "    \n",
    "    def __init__(self, first_symbol):\n",
    "        self.first_symbol = first_symbol\n",
    "    \n",
    "    def get_value(self, amount, symbol):\n",
    "        return amount * (self.RATES[self.first_symbol] / self.RATES[symbol])\n",
    "    \n",
    "    \n",
    "class Money:\n",
    "    \n",
    "    def __init__(self, amount, symbol):\n",
    "        self.amount = amount\n",
    "        self.symbol = symbol\n",
    "        self.converter = CurrencyConverter(self.symbol)\n",
    "        \n",
    "    def __str__(self):\n",
    "        return \"${} {}\".format(self.amount, self.symbol)\n",
    "        \n",
    "    def __gt__(self, other):\n",
    "        return self.amount > self.converter.get_value(other.amount, other.symbol)\n",
    "    \n",
    "    def __lt__(self, other):\n",
    "        return self.amount < self.converter.get_value(other.amount, other.symbol)\n",
    "       \n",
    "    def __add__ (self, other):\n",
    "        return Money(self.amount + self.converter.get_value(other.amount, other.symbol), self.symbol)\n"
   ]
  },
  {
   "cell_type": "code",
   "execution_count": 7,
   "metadata": {
    "collapsed": false
   },
   "outputs": [],
   "source": [
    "def dot(vector_a, vector_b):\n",
    "    def shape_checker(vector_a, vector_b):\n",
    "        if shape(vector_a) != shape(vector_b):\n",
    "            raise ShapeException()\n",
    "    output_vector = []\n",
    "    counter = -1\n",
    "    for x in vector_a:\n",
    "        counter += 1\n",
    "        addition_num = vector_b[counter]\n",
    "        new_num = x * addition_num\n",
    "        output_vector.append(new_num)\n",
    "    return sum(output_vector)\n",
    "\n",
    "def magnitude(vector):\n",
    "    total = 0\n",
    "    for x in vector:\n",
    "        total += x**2\n",
    "    return total**0.5\n",
    "\n",
    "def shape(matrix):\n",
    "    for row in matrix:\n",
    "        row_counter += 1\n",
    "        if type(row) == list:\n",
    "            for x in row:\n",
    "                column_counter += 1\n",
    "    column_counter = int(column_counter / row_counter)\n",
    "    size.append(row_counter)\n",
    "    size.append(column_counter)\n",
    "    if size[1] == 0:\n",
    "        del size[1]\n",
    "    size = tuple(size)\n",
    "    return size\n",
    "\n",
    "def vector_add(vector_a, vector_b):\n",
    "    def shape_checker(vector_a, vector_b):\n",
    "        if shape(matrix1) != shape(matrix2):\n",
    "            raise ShapeException()\n",
    "        output_vector = []\n",
    "        counter = -1\n",
    "        for x in vector_a:\n",
    "            counter += 1\n",
    "            addition_num = vector_b[counter]\n",
    "            new_num = x + addition_num\n",
    "            output_vector.append(new_num)\n",
    "        return output_vector\n",
    "\n",
    "def vector_sub(vector_a, vector_b):\n",
    "    def shape_checker(vector_a, vector_b):\n",
    "        if shape(matrix1) != shape(matrix2):\n",
    "            raise ShapeException()\n",
    "        output_vector = []\n",
    "        counter = -1\n",
    "        for x in vector_a:\n",
    "            counter += 1\n",
    "            subtraction_num = vector_b[counter]\n",
    "            new_num = x - subtraction_num\n",
    "            output_vector.append(new_num)\n",
    "        return output_vector\n",
    "\n",
    "def matrix_row():\n",
    "    if row > len(matrix):\n",
    "        raise ShapeException()\n",
    "    if type(row) == int:\n",
    "        return matrix[row]\n",
    "    else:\n",
    "        return \"Please type an integer.\"\n",
    "\n",
    "def matrix_scalar_multiply(matrix, scalar):\n",
    "    new_matrix = [[col * scalar for col in row] for row in matrix]\n",
    "    return new_matrix \n",
    "\n",
    "def matrix_vector_multiply(matrix, vector):\n",
    "    output_matrix = []\n",
    "    for row in matrix:\n",
    "        output_row = []\n",
    "        counter = -1\n",
    "        for column in row:\n",
    "            counter += 1\n",
    "            calculated_value = column * vector_a[counter]\n",
    "            output_row.append(calculated_value)\n",
    "        output_row = sum(output_row)\n",
    "        output_matrix.append(output_row)\n",
    "    return output_matrix\n",
    "\n",
    "def matrix_matrix_multiply():\n",
    "    pass\n",
    "\n",
    "def matrix_col():\n",
    "    pass\n"
   ]
  },
  {
   "cell_type": "code",
   "execution_count": 10,
   "metadata": {
    "collapsed": true
   },
   "outputs": [],
   "source": [
    "#You should think about how you create the initial objects. It is suggested that you be able to write:\n",
    "    #Matrix([[0, 1, 0], [1, 0, 0], [0, 0, 1]])\n",
    "    #Vector([1, 5])\n",
    "#Also think about whether Vector might inherit from Matrix or vice-versa. Vectors can often be treated as 1-d matrices\n",
    "\n"
   ]
  },
  {
   "cell_type": "code",
   "execution_count": 568,
   "metadata": {
    "collapsed": false
   },
   "outputs": [],
   "source": [
    "class Matrix(Vector):\n",
    "    pass\n",
    "\n",
    "class Vector(list):\n",
    "    \n",
    "    def __init__(self, value):\n",
    "        self.value = value\n",
    "        self.counter = 0\n",
    "        self.shape_checker_list = []\n",
    "        self.dot_product_list = []\n",
    "        self.add_list = []\n",
    "        self.sub_list = []\n",
    "        return \n",
    "    \n",
    "    def vector_shape_checker(self, other):\n",
    "        if len(self.value) != len(other.value):\n",
    "            raise ValueError\n",
    "        else:\n",
    "            return len(other.value)    \n",
    "        \n",
    "    def __str__(self):\n",
    "        return \"{}\".format(self.value)\n",
    "    \n",
    "    def magnitude(self):\n",
    "        self.total = 0\n",
    "        for x in self.value:\n",
    "            self.total += x**2\n",
    "        return self.total**0.5\n",
    "    \n",
    "    def shape_checker(self):\n",
    "        for x in self.value:\n",
    "            self.counter += 1\n",
    "        self.shape_checker_list.append(self.counter)\n",
    "        self.shape_checker_list = tuple(self.shape_checker_list)\n",
    "        return self.shape_checker_list\n",
    "    \n",
    "    def vector_scalar(self, value_scalar):\n",
    "        return [x * value_scalar for x in self.value]\n",
    "\n",
    "    def dot(self, other):\n",
    "        self.counter = -1\n",
    "        for x in self.value:\n",
    "            self.counter += 1\n",
    "            addition_num = other.value[self.counter]\n",
    "            new_num = x * addition_num\n",
    "            self.dot_product_list.append(new_num)\n",
    "        return sum(self.dot_product_list)\n",
    "     \n",
    "    def vector_add(self, other):\n",
    "        self.counter = -1\n",
    "        for x in self.value:\n",
    "            self.counter += 1\n",
    "            addition_num = other.value[self.counter]\n",
    "            new_num = x + addition_num\n",
    "            self.add_list.append(new_num)\n",
    "        return self.add_list\n",
    "    \n",
    "    def vector_sub(self, other):\n",
    "        self.counter = -1\n",
    "        for x in self.value:\n",
    "            self.counter += 1\n",
    "            addition_num = other.value[self.counter]\n",
    "            new_num = x - addition_num\n",
    "            self.sub_list.append(new_num)\n",
    "        return self.sub_list\n"
   ]
  },
  {
   "cell_type": "code",
   "execution_count": 569,
   "metadata": {
    "collapsed": false
   },
   "outputs": [
    {
     "name": "stdout",
     "output_type": "stream",
     "text": [
      "[1, 2, 3, 4]\n",
      "5.477225575051661\n",
      "(4,)\n",
      "[4, 8, 12, 16]\n",
      "10\n",
      "[0, 1, 2, 3]\n",
      "[2, 3, 4, 5]\n",
      "[]\n"
     ]
    }
   ],
   "source": [
    "x = Vector([1, 2, 3, 4])\n",
    "y = Vector([1, 1 ,1,1])\n",
    "print(x)\n",
    "print(x.magnitude())\n",
    "print(x.shape_checker())\n",
    "print(x.vector_scalar(4))\n",
    "print(x.dot(y))\n",
    "print(x.vector_sub(y))\n",
    "print(x.vector_add(y))\n",
    "print(x + y)"
   ]
  },
  {
   "cell_type": "code",
   "execution_count": 777,
   "metadata": {
    "collapsed": false
   },
   "outputs": [],
   "source": [
    "###using this\n",
    "\n",
    "class Matrix(Vector):\n",
    "    \n",
    "    def __init__(self, value):\n",
    "        self.value = value\n",
    "        self.shape = []\n",
    "        return\n",
    "    \n",
    "    def __str__(self):\n",
    "        return \"{}\".format(self.value)\n",
    "    \n",
    "    def matrix_shape(self):\n",
    "        self.rows = sum((isinstance(x, list) for x in self.value))\n",
    "        if self.rows == 0:\n",
    "            self.shape.append(len(self.value))\n",
    "            return self.shape\n",
    "        else:\n",
    "            self.shape.append(self.rows)\n",
    "            for x in self.value:\n",
    "                self.columns = sum(isinstance(a, int) for a in x)\n",
    "            self.shape.append(self.columns)\n",
    "            return self.shape\n",
    "\n",
    "class Vector():\n",
    "                       \n",
    "    def __init__(self, value):\n",
    "        self.value = value\n",
    "        self.counter = 0\n",
    "        self.shape_checker_list = []\n",
    "        self.dot_product_list = []\n",
    "        self.add_list = []\n",
    "        self.sub_list = []\n",
    "        self.rows = []\n",
    "        return \n",
    "    \n",
    "    def vector_shape_checker(self, other):\n",
    "        if len(self.value) != len(other.value):\n",
    "            raise ValueError(\"Please provide vectors of the same length\")\n",
    "        else:\n",
    "            return len(other.value)    \n",
    "        \n",
    "    def __str__(self):\n",
    "        return \"{}\".format(self.value)\n",
    "    \n",
    "    def vector_shape(self):\n",
    "        self.rows = len(self.value)\n",
    "\n",
    "    def dot(self, other):\n",
    "        self.vector_shape_checker(other)\n",
    "        self.counter = -1\n",
    "        for x in self.value:\n",
    "            self.counter += 1\n",
    "            addition_num = other.value[self.counter]\n",
    "            new_num = x * addition_num\n",
    "            self.dot_product_list.append(new_num)\n",
    "        return sum(self.dot_product_list)\n",
    "     \n",
    "    def vector_add(self, other):\n",
    "        self.vector_shape_checker(other)\n",
    "        self.counter = -1\n",
    "        for x in self.value:\n",
    "            self.counter += 1\n",
    "            addition_num = other.value[self.counter]\n",
    "            new_num = x + addition_num\n",
    "            self.add_list.append(new_num)\n",
    "        return self.add_list\n",
    "    \n",
    "    def vector_sub(self, other):\n",
    "        self.vector_shape_checker(other)\n",
    "        self.counter = -1\n",
    "        for x in self.value:\n",
    "            self.counter += 1\n",
    "            addition_num = other.value[self.counter]\n",
    "            new_num = x - addition_num\n",
    "            self.sub_list.append(new_num)\n",
    "        return self.sub_list "
   ]
  },
  {
   "cell_type": "code",
   "execution_count": 778,
   "metadata": {
    "collapsed": false
   },
   "outputs": [
    {
     "data": {
      "text/plain": [
       "[2, 5]"
      ]
     },
     "execution_count": 778,
     "metadata": {},
     "output_type": "execute_result"
    }
   ],
   "source": [
    "x = Vector([1,2,3])\n",
    "z = Matrix([[2,3,2,5,4], [2,3,2,5,4]])\n",
    "z.matrix_shape()"
   ]
  },
  {
   "cell_type": "code",
   "execution_count": 687,
   "metadata": {
    "collapsed": false
   },
   "outputs": [
    {
     "name": "stdout",
     "output_type": "stream",
     "text": [
      "5\n",
      "4\n"
     ]
    }
   ],
   "source": []
  },
  {
   "cell_type": "code",
   "execution_count": 749,
   "metadata": {
    "collapsed": false
   },
   "outputs": [],
   "source": [
    "class Matrix(Vector):\n",
    "    \n",
    "    def __init__(self, value):\n",
    "        self.value = value\n",
    "        self.shape = []\n",
    "        return\n",
    "    \n",
    "    def __str__(self):\n",
    "        return \"{}\".format(self.value)\n",
    "    \n",
    "    def matrix_shape(self):\n",
    "        self.rows = sum(isinstance(x, list) for x in self.value)\n",
    "        if self.rows == 0:\n",
    "            self.shape.append(len(self.value))\n",
    "            return self.shape\n",
    "        else:\n",
    "            self.shape.append(rows)\n",
    "            for x in self.value:\n",
    "                self.columns = sum(isinstance(a, int) for a in x)\n",
    "            self.shape.append(self.columns)\n",
    "            return self.shape\n",
    "    \n",
    "    def matrix_scalar_mult(self, value_scalar):\n",
    "        for x in self.value:\n",
    "            for \n",
    "            return [[col * value_scalar] for col in x]"
   ]
  },
  {
   "cell_type": "code",
   "execution_count": 750,
   "metadata": {
    "collapsed": false
   },
   "outputs": [
    {
     "ename": "TypeError",
     "evalue": "'int' object is not iterable",
     "output_type": "error",
     "traceback": [
      "\u001b[0;31m---------------------------------------------------------------------------\u001b[0m",
      "\u001b[0;31mTypeError\u001b[0m                                 Traceback (most recent call last)",
      "\u001b[0;32m<ipython-input-750-32a9d94155a4>\u001b[0m in \u001b[0;36m<module>\u001b[0;34m()\u001b[0m\n\u001b[1;32m      1\u001b[0m \u001b[0mz\u001b[0m \u001b[0;34m=\u001b[0m \u001b[0mMatrix\u001b[0m\u001b[0;34m(\u001b[0m\u001b[0;34m[\u001b[0m\u001b[0;36m2\u001b[0m\u001b[0;34m,\u001b[0m\u001b[0;36m3\u001b[0m\u001b[0;34m,\u001b[0m\u001b[0;36m2\u001b[0m\u001b[0;34m,\u001b[0m\u001b[0;36m5\u001b[0m\u001b[0;34m,\u001b[0m\u001b[0;36m4\u001b[0m\u001b[0;34m]\u001b[0m\u001b[0;34m)\u001b[0m\u001b[0;34m\u001b[0m\u001b[0m\n\u001b[0;32m----> 2\u001b[0;31m \u001b[0mz\u001b[0m\u001b[0;34m.\u001b[0m\u001b[0mmatrix_scalar_mult\u001b[0m\u001b[0;34m(\u001b[0m\u001b[0;36m2\u001b[0m\u001b[0;34m)\u001b[0m\u001b[0;34m\u001b[0m\u001b[0m\n\u001b[0m",
      "\u001b[0;32m<ipython-input-749-a507602cb560>\u001b[0m in \u001b[0;36mmatrix_scalar_mult\u001b[0;34m(self, value_scalar)\u001b[0m\n\u001b[1;32m     23\u001b[0m     \u001b[0;32mdef\u001b[0m \u001b[0mmatrix_scalar_mult\u001b[0m\u001b[0;34m(\u001b[0m\u001b[0mself\u001b[0m\u001b[0;34m,\u001b[0m \u001b[0mvalue_scalar\u001b[0m\u001b[0;34m)\u001b[0m\u001b[0;34m:\u001b[0m\u001b[0;34m\u001b[0m\u001b[0m\n\u001b[1;32m     24\u001b[0m         \u001b[0;32mfor\u001b[0m \u001b[0mx\u001b[0m \u001b[0;32min\u001b[0m \u001b[0mself\u001b[0m\u001b[0;34m.\u001b[0m\u001b[0mvalue\u001b[0m\u001b[0;34m:\u001b[0m\u001b[0;34m\u001b[0m\u001b[0m\n\u001b[0;32m---> 25\u001b[0;31m             \u001b[0;32mreturn\u001b[0m \u001b[0;34m[\u001b[0m\u001b[0;34m[\u001b[0m\u001b[0mcol\u001b[0m \u001b[0;34m*\u001b[0m \u001b[0mvalue_scalar\u001b[0m\u001b[0;34m]\u001b[0m \u001b[0;32mfor\u001b[0m \u001b[0mcol\u001b[0m \u001b[0;32min\u001b[0m \u001b[0mx\u001b[0m\u001b[0;34m]\u001b[0m\u001b[0;34m\u001b[0m\u001b[0m\n\u001b[0m",
      "\u001b[0;31mTypeError\u001b[0m: 'int' object is not iterable"
     ]
    }
   ],
   "source": [
    "z = Matrix([2,3,2,5,4])\n",
    "z.matrix_scalar_mult(2)"
   ]
  },
  {
   "cell_type": "code",
   "execution_count": null,
   "metadata": {
    "collapsed": true
   },
   "outputs": [],
   "source": []
  }
 ],
 "metadata": {
  "kernelspec": {
   "display_name": "Python 3",
   "language": "python",
   "name": "python3"
  },
  "language_info": {
   "codemirror_mode": {
    "name": "ipython",
    "version": 3
   },
   "file_extension": ".py",
   "mimetype": "text/x-python",
   "name": "python",
   "nbconvert_exporter": "python",
   "pygments_lexer": "ipython3",
   "version": "3.5.0"
  }
 },
 "nbformat": 4,
 "nbformat_minor": 0
}
